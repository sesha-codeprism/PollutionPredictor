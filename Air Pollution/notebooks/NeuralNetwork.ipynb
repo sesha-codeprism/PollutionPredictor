{
 "cells": [
  {
   "cell_type": "code",
   "execution_count": 1,
   "metadata": {},
   "outputs": [
    {
     "name": "stderr",
     "output_type": "stream",
     "text": [
      "Using TensorFlow backend.\n"
     ]
    }
   ],
   "source": [
    "from sklearn.model_selection import train_test_split\n",
    "import pandas as pd\n",
    "import numpy as np\n",
    "from sklearn.preprocessing import StandardScaler\n",
    "from keras.utils import to_categorical\n",
    "from keras.models import Sequential\n",
    "from keras.layers import Dense"
   ]
  },
  {
   "cell_type": "code",
   "execution_count": 2,
   "metadata": {},
   "outputs": [
    {
     "data": {
      "text/html": [
       "<div>\n",
       "<style>\n",
       "    .dataframe thead tr:only-child th {\n",
       "        text-align: right;\n",
       "    }\n",
       "\n",
       "    .dataframe thead th {\n",
       "        text-align: left;\n",
       "    }\n",
       "\n",
       "    .dataframe tbody tr th {\n",
       "        vertical-align: top;\n",
       "    }\n",
       "</style>\n",
       "<table border=\"1\" class=\"dataframe\">\n",
       "  <thead>\n",
       "    <tr style=\"text-align: right;\">\n",
       "      <th></th>\n",
       "      <th>LIMIT_BAL_US</th>\n",
       "      <th>SEX</th>\n",
       "      <th>EDUCATION</th>\n",
       "      <th>MARRIAGE</th>\n",
       "      <th>AGE</th>\n",
       "      <th>PAY_SCORE_AVG</th>\n",
       "      <th>BILL_AVG_US</th>\n",
       "      <th>PAY_AMT_AVG_US</th>\n",
       "      <th>PAY_TO_BILL</th>\n",
       "      <th>CREDIT_UTILIZATION</th>\n",
       "      <th>DEFAULT_PAYMENT_NEXT_MO</th>\n",
       "    </tr>\n",
       "  </thead>\n",
       "  <tbody>\n",
       "    <tr>\n",
       "      <th>0</th>\n",
       "      <td>725.714286</td>\n",
       "      <td>2</td>\n",
       "      <td>2</td>\n",
       "      <td>1</td>\n",
       "      <td>24</td>\n",
       "      <td>-0.33</td>\n",
       "      <td>46.590857</td>\n",
       "      <td>4.166810</td>\n",
       "      <td>0.09</td>\n",
       "      <td>0.195650</td>\n",
       "      <td>1</td>\n",
       "    </tr>\n",
       "    <tr>\n",
       "      <th>1</th>\n",
       "      <td>4354.285714</td>\n",
       "      <td>2</td>\n",
       "      <td>2</td>\n",
       "      <td>2</td>\n",
       "      <td>26</td>\n",
       "      <td>0.50</td>\n",
       "      <td>103.275191</td>\n",
       "      <td>30.238095</td>\n",
       "      <td>0.29</td>\n",
       "      <td>0.022350</td>\n",
       "      <td>1</td>\n",
       "    </tr>\n",
       "    <tr>\n",
       "      <th>2</th>\n",
       "      <td>3265.714286</td>\n",
       "      <td>2</td>\n",
       "      <td>2</td>\n",
       "      <td>2</td>\n",
       "      <td>34</td>\n",
       "      <td>0.00</td>\n",
       "      <td>614.758619</td>\n",
       "      <td>66.632667</td>\n",
       "      <td>0.11</td>\n",
       "      <td>0.324878</td>\n",
       "      <td>0</td>\n",
       "    </tr>\n",
       "    <tr>\n",
       "      <th>3</th>\n",
       "      <td>1814.285714</td>\n",
       "      <td>2</td>\n",
       "      <td>2</td>\n",
       "      <td>1</td>\n",
       "      <td>37</td>\n",
       "      <td>0.00</td>\n",
       "      <td>1399.019905</td>\n",
       "      <td>50.727429</td>\n",
       "      <td>0.04</td>\n",
       "      <td>0.939800</td>\n",
       "      <td>0</td>\n",
       "    </tr>\n",
       "    <tr>\n",
       "      <th>4</th>\n",
       "      <td>1814.285714</td>\n",
       "      <td>1</td>\n",
       "      <td>2</td>\n",
       "      <td>1</td>\n",
       "      <td>57</td>\n",
       "      <td>-0.33</td>\n",
       "      <td>661.240619</td>\n",
       "      <td>357.105857</td>\n",
       "      <td>0.54</td>\n",
       "      <td>0.172340</td>\n",
       "      <td>0</td>\n",
       "    </tr>\n",
       "  </tbody>\n",
       "</table>\n",
       "</div>"
      ],
      "text/plain": [
       "   LIMIT_BAL_US  SEX  EDUCATION  MARRIAGE  AGE  PAY_SCORE_AVG  BILL_AVG_US  \\\n",
       "0    725.714286    2          2         1   24          -0.33    46.590857   \n",
       "1   4354.285714    2          2         2   26           0.50   103.275191   \n",
       "2   3265.714286    2          2         2   34           0.00   614.758619   \n",
       "3   1814.285714    2          2         1   37           0.00  1399.019905   \n",
       "4   1814.285714    1          2         1   57          -0.33   661.240619   \n",
       "\n",
       "   PAY_AMT_AVG_US  PAY_TO_BILL  CREDIT_UTILIZATION  DEFAULT_PAYMENT_NEXT_MO  \n",
       "0        4.166810         0.09            0.195650                        1  \n",
       "1       30.238095         0.29            0.022350                        1  \n",
       "2       66.632667         0.11            0.324878                        0  \n",
       "3       50.727429         0.04            0.939800                        0  \n",
       "4      357.105857         0.54            0.172340                        0  "
      ]
     },
     "execution_count": 2,
     "metadata": {},
     "output_type": "execute_result"
    }
   ],
   "source": [
    "df = pd.read_csv(\"Data_USD.csv\")\n",
    "df.head()"
   ]
  },
  {
   "cell_type": "code",
   "execution_count": 3,
   "metadata": {},
   "outputs": [
    {
     "name": "stdout",
     "output_type": "stream",
     "text": [
      "(30000, 10)\n",
      "(30000,)\n"
     ]
    }
   ],
   "source": [
    "# X = df.drop('Y_Value',axis =1).values\n",
    "# y = df['Y_Value'].values\n",
    "X = df.drop('DEFAULT_PAYMENT_NEXT_MO',axis =1).values\n",
    "y = df['DEFAULT_PAYMENT_NEXT_MO'].values\n",
    "print(X.shape)\n",
    "print(y.shape)"
   ]
  },
  {
   "cell_type": "code",
   "execution_count": 4,
   "metadata": {
    "collapsed": true
   },
   "outputs": [],
   "source": [
    "X_train, X_test, y_train, y_test = train_test_split (X,y,random_state=1)"
   ]
  },
  {
   "cell_type": "code",
   "execution_count": 5,
   "metadata": {
    "collapsed": true
   },
   "outputs": [],
   "source": [
    "from sklearn.preprocessing import StandardScaler\n",
    "\n",
    "X_scaler = StandardScaler().fit(X_train)"
   ]
  },
  {
   "cell_type": "code",
   "execution_count": 6,
   "metadata": {
    "collapsed": true
   },
   "outputs": [],
   "source": [
    "X_train_scaled = X_scaler.transform(X_train)\n",
    "X_test_scaled = X_scaler.transform(X_test)"
   ]
  },
  {
   "cell_type": "code",
   "execution_count": 7,
   "metadata": {
    "collapsed": true
   },
   "outputs": [],
   "source": [
    "y_train_categorical = to_categorical(y_train)\n",
    "y_test_categorical = to_categorical(y_test)"
   ]
  },
  {
   "cell_type": "code",
   "execution_count": 8,
   "metadata": {
    "collapsed": true
   },
   "outputs": [],
   "source": [
    "from keras.models import Sequential\n",
    "\n",
    "#instantiate\n",
    "model = Sequential()"
   ]
  },
  {
   "cell_type": "code",
   "execution_count": 9,
   "metadata": {
    "collapsed": true
   },
   "outputs": [],
   "source": [
    "from keras.layers import Dense\n",
    "\n",
    "number_inputs = 10\n",
    "number_hidden = 30\n",
    "\n",
    "model.add(Dense(units = number_hidden, activation ='relu', input_dim=number_inputs))\n",
    "model.add(Dense(units = 20, activation ='relu')) #second hidden layer"
   ]
  },
  {
   "cell_type": "code",
   "execution_count": 10,
   "metadata": {
    "collapsed": true
   },
   "outputs": [],
   "source": [
    "number_classes =2 ## yes or no\n",
    "model.add(Dense(units = number_classes, activation = 'softmax'))"
   ]
  },
  {
   "cell_type": "code",
   "execution_count": 11,
   "metadata": {},
   "outputs": [
    {
     "name": "stdout",
     "output_type": "stream",
     "text": [
      "_________________________________________________________________\n",
      "Layer (type)                 Output Shape              Param #   \n",
      "=================================================================\n",
      "dense_1 (Dense)              (None, 30)                330       \n",
      "_________________________________________________________________\n",
      "dense_2 (Dense)              (None, 20)                620       \n",
      "_________________________________________________________________\n",
      "dense_3 (Dense)              (None, 2)                 42        \n",
      "=================================================================\n",
      "Total params: 992\n",
      "Trainable params: 992\n",
      "Non-trainable params: 0\n",
      "_________________________________________________________________\n"
     ]
    }
   ],
   "source": [
    "model.summary()"
   ]
  },
  {
   "cell_type": "code",
   "execution_count": 12,
   "metadata": {
    "collapsed": true
   },
   "outputs": [],
   "source": [
    "#compile the model\n",
    "model.compile(optimizer = 'adam' ,\n",
    "             loss = 'categorical_crossentropy',\n",
    "             metrics =['accuracy'])"
   ]
  },
  {
   "cell_type": "code",
   "execution_count": 13,
   "metadata": {},
   "outputs": [
    {
     "name": "stdout",
     "output_type": "stream",
     "text": [
      "Epoch 1/100\n",
      " - 2s - loss: 0.4857 - acc: 0.7963\n",
      "Epoch 2/100\n",
      " - 1s - loss: 0.4626 - acc: 0.8045\n",
      "Epoch 3/100\n",
      " - 1s - loss: 0.4559 - acc: 0.8054\n",
      "Epoch 4/100\n",
      " - 1s - loss: 0.4515 - acc: 0.8056\n",
      "Epoch 5/100\n",
      " - 1s - loss: 0.4491 - acc: 0.8070\n",
      "Epoch 6/100\n",
      " - 1s - loss: 0.4476 - acc: 0.8055\n",
      "Epoch 7/100\n",
      " - 1s - loss: 0.4461 - acc: 0.8069\n",
      "Epoch 8/100\n",
      " - 1s - loss: 0.4448 - acc: 0.8073\n",
      "Epoch 9/100\n",
      " - 1s - loss: 0.4440 - acc: 0.8076\n",
      "Epoch 10/100\n",
      " - 2s - loss: 0.4434 - acc: 0.8061\n",
      "Epoch 11/100\n",
      " - 1s - loss: 0.4425 - acc: 0.8078\n",
      "Epoch 12/100\n",
      " - 1s - loss: 0.4413 - acc: 0.8081\n",
      "Epoch 13/100\n",
      " - 2s - loss: 0.4415 - acc: 0.8088\n",
      "Epoch 14/100\n",
      " - 1s - loss: 0.4405 - acc: 0.8080\n",
      "Epoch 15/100\n",
      " - 1s - loss: 0.4397 - acc: 0.8091\n",
      "Epoch 16/100\n",
      " - 1s - loss: 0.4398 - acc: 0.8086\n",
      "Epoch 17/100\n",
      " - 1s - loss: 0.4392 - acc: 0.8084\n",
      "Epoch 18/100\n",
      " - 1s - loss: 0.4392 - acc: 0.8091\n",
      "Epoch 19/100\n",
      " - 1s - loss: 0.4381 - acc: 0.8095\n",
      "Epoch 20/100\n",
      " - 1s - loss: 0.4386 - acc: 0.8092\n",
      "Epoch 21/100\n",
      " - 1s - loss: 0.4379 - acc: 0.8080\n",
      "Epoch 22/100\n",
      " - 1s - loss: 0.4376 - acc: 0.8086\n",
      "Epoch 23/100\n",
      " - 1s - loss: 0.4374 - acc: 0.8092\n",
      "Epoch 24/100\n",
      " - 1s - loss: 0.4365 - acc: 0.8091\n",
      "Epoch 25/100\n",
      " - 1s - loss: 0.4372 - acc: 0.8098\n",
      "Epoch 26/100\n",
      " - 1s - loss: 0.4361 - acc: 0.8087\n",
      "Epoch 27/100\n",
      " - 1s - loss: 0.4362 - acc: 0.8093\n",
      "Epoch 28/100\n",
      " - 1s - loss: 0.4353 - acc: 0.8109\n",
      "Epoch 29/100\n",
      " - 1s - loss: 0.4355 - acc: 0.8092\n",
      "Epoch 30/100\n",
      " - 1s - loss: 0.4347 - acc: 0.8103\n",
      "Epoch 31/100\n",
      " - 1s - loss: 0.4355 - acc: 0.8108\n",
      "Epoch 32/100\n",
      " - 1s - loss: 0.4342 - acc: 0.8104\n",
      "Epoch 33/100\n",
      " - 1s - loss: 0.4345 - acc: 0.8109\n",
      "Epoch 34/100\n",
      " - 1s - loss: 0.4340 - acc: 0.8118\n",
      "Epoch 35/100\n",
      " - 1s - loss: 0.4342 - acc: 0.8105\n",
      "Epoch 36/100\n",
      " - 1s - loss: 0.4334 - acc: 0.8108\n",
      "Epoch 37/100\n",
      " - 1s - loss: 0.4332 - acc: 0.8115\n",
      "Epoch 38/100\n",
      " - 1s - loss: 0.4330 - acc: 0.8110\n",
      "Epoch 39/100\n",
      " - 1s - loss: 0.4333 - acc: 0.8098\n",
      "Epoch 40/100\n",
      " - 1s - loss: 0.4332 - acc: 0.8104\n",
      "Epoch 41/100\n",
      " - 1s - loss: 0.4324 - acc: 0.8112\n",
      "Epoch 42/100\n",
      " - 1s - loss: 0.4324 - acc: 0.8101\n",
      "Epoch 43/100\n",
      " - 1s - loss: 0.4322 - acc: 0.8109\n",
      "Epoch 44/100\n",
      " - 1s - loss: 0.4318 - acc: 0.8113\n",
      "Epoch 45/100\n",
      " - 1s - loss: 0.4320 - acc: 0.8111\n",
      "Epoch 46/100\n",
      " - 1s - loss: 0.4319 - acc: 0.8112\n",
      "Epoch 47/100\n",
      " - 1s - loss: 0.4321 - acc: 0.8120\n",
      "Epoch 48/100\n",
      " - 1s - loss: 0.4312 - acc: 0.8110\n",
      "Epoch 49/100\n",
      " - 1s - loss: 0.4312 - acc: 0.8116\n",
      "Epoch 50/100\n",
      " - 1s - loss: 0.4314 - acc: 0.8112\n",
      "Epoch 51/100\n",
      " - 1s - loss: 0.4302 - acc: 0.8125\n",
      "Epoch 52/100\n",
      " - 1s - loss: 0.4305 - acc: 0.8113\n",
      "Epoch 53/100\n",
      " - 1s - loss: 0.4304 - acc: 0.8118\n",
      "Epoch 54/100\n",
      " - 1s - loss: 0.4305 - acc: 0.8109\n",
      "Epoch 55/100\n",
      " - 1s - loss: 0.4302 - acc: 0.8121\n",
      "Epoch 56/100\n",
      " - 1s - loss: 0.4299 - acc: 0.8117\n",
      "Epoch 57/100\n",
      " - 1s - loss: 0.4301 - acc: 0.8118\n",
      "Epoch 58/100\n",
      " - 1s - loss: 0.4293 - acc: 0.8128\n",
      "Epoch 59/100\n",
      " - 1s - loss: 0.4299 - acc: 0.8109\n",
      "Epoch 60/100\n",
      " - 1s - loss: 0.4290 - acc: 0.8114\n",
      "Epoch 61/100\n",
      " - 1s - loss: 0.4294 - acc: 0.8114\n",
      "Epoch 62/100\n",
      " - 1s - loss: 0.4295 - acc: 0.8122\n",
      "Epoch 63/100\n",
      " - 1s - loss: 0.4287 - acc: 0.8108\n",
      "Epoch 64/100\n",
      " - 1s - loss: 0.4289 - acc: 0.8116\n",
      "Epoch 65/100\n",
      " - 1s - loss: 0.4286 - acc: 0.8116\n",
      "Epoch 66/100\n",
      " - 1s - loss: 0.4282 - acc: 0.8119\n",
      "Epoch 67/100\n",
      " - 1s - loss: 0.4282 - acc: 0.8109\n",
      "Epoch 68/100\n",
      " - 1s - loss: 0.4288 - acc: 0.8129\n",
      "Epoch 69/100\n",
      " - 1s - loss: 0.4288 - acc: 0.8115\n",
      "Epoch 70/100\n",
      " - 1s - loss: 0.4279 - acc: 0.8121\n",
      "Epoch 71/100\n",
      " - 1s - loss: 0.4285 - acc: 0.8118\n",
      "Epoch 72/100\n",
      " - 1s - loss: 0.4280 - acc: 0.8128\n",
      "Epoch 73/100\n",
      " - 1s - loss: 0.4278 - acc: 0.8120\n",
      "Epoch 74/100\n",
      " - 1s - loss: 0.4274 - acc: 0.8129\n",
      "Epoch 75/100\n",
      " - 1s - loss: 0.4279 - acc: 0.8135\n",
      "Epoch 76/100\n",
      " - 1s - loss: 0.4277 - acc: 0.8123\n",
      "Epoch 77/100\n",
      " - 1s - loss: 0.4274 - acc: 0.8116\n",
      "Epoch 78/100\n",
      " - 1s - loss: 0.4278 - acc: 0.8112\n",
      "Epoch 79/100\n",
      " - 1s - loss: 0.4273 - acc: 0.8128\n",
      "Epoch 80/100\n",
      " - 1s - loss: 0.4267 - acc: 0.8130\n",
      "Epoch 81/100\n",
      " - 1s - loss: 0.4270 - acc: 0.8122\n",
      "Epoch 82/100\n",
      " - 1s - loss: 0.4270 - acc: 0.8123\n",
      "Epoch 83/100\n",
      " - 1s - loss: 0.4270 - acc: 0.8119\n",
      "Epoch 84/100\n",
      " - 1s - loss: 0.4270 - acc: 0.8125\n",
      "Epoch 85/100\n",
      " - 1s - loss: 0.4262 - acc: 0.8119\n",
      "Epoch 86/100\n",
      " - 1s - loss: 0.4269 - acc: 0.8127\n",
      "Epoch 87/100\n",
      " - 1s - loss: 0.4264 - acc: 0.8122\n",
      "Epoch 88/100\n",
      " - 1s - loss: 0.4270 - acc: 0.8118\n",
      "Epoch 89/100\n",
      " - 1s - loss: 0.4258 - acc: 0.8127\n",
      "Epoch 90/100\n",
      " - 1s - loss: 0.4264 - acc: 0.8115\n",
      "Epoch 91/100\n",
      " - 1s - loss: 0.4266 - acc: 0.8138\n",
      "Epoch 92/100\n",
      " - 1s - loss: 0.4253 - acc: 0.8132\n",
      "Epoch 93/100\n",
      " - 1s - loss: 0.4258 - acc: 0.8122\n",
      "Epoch 94/100\n",
      " - 1s - loss: 0.4261 - acc: 0.8131\n",
      "Epoch 95/100\n",
      " - 1s - loss: 0.4257 - acc: 0.8124\n",
      "Epoch 96/100\n",
      " - 1s - loss: 0.4254 - acc: 0.8135\n",
      "Epoch 97/100\n",
      " - 1s - loss: 0.4256 - acc: 0.8120\n",
      "Epoch 98/100\n",
      " - 1s - loss: 0.4255 - acc: 0.8136\n",
      "Epoch 99/100\n",
      " - 1s - loss: 0.4258 - acc: 0.8125\n",
      "Epoch 100/100\n",
      " - 1s - loss: 0.4253 - acc: 0.8126\n"
     ]
    },
    {
     "data": {
      "text/plain": [
       "<keras.callbacks.History at 0x1a0e368b00>"
      ]
     },
     "execution_count": 13,
     "metadata": {},
     "output_type": "execute_result"
    }
   ],
   "source": [
    "#train the model\n",
    "\n",
    "model.fit(X_train_scaled, y_train_categorical, epochs=100,shuffle = True,verbose =2)"
   ]
  },
  {
   "cell_type": "code",
   "execution_count": 14,
   "metadata": {},
   "outputs": [],
   "source": [
    "model.save(\"ccneuralnetwork.h5\")"
   ]
  },
  {
   "cell_type": "code",
   "execution_count": 15,
   "metadata": {},
   "outputs": [
    {
     "name": "stdout",
     "output_type": "stream",
     "text": [
      "0.458604142507\n",
      "0.797733333333\n"
     ]
    }
   ],
   "source": [
    "#quantify the model\n",
    "model_loss, model_accuracy = model.evaluate(X_test_scaled,y_test_categorical,verbose =2)\n",
    "print( model_loss )\n",
    "print (model_accuracy)"
   ]
  },
  {
   "cell_type": "markdown",
   "metadata": {},
   "source": [
    "F1, Precision Recall, and Confusion Matrix"
   ]
  },
  {
   "cell_type": "code",
   "execution_count": null,
   "metadata": {
    "collapsed": true
   },
   "outputs": [],
   "source": [
    "from sklearn.metrics import precision_recall_fscore_support\n",
    "from sklearn.metrics import recall_score\n",
    "from sklearn.metrics import classification_report"
   ]
  },
  {
   "cell_type": "code",
   "execution_count": null,
   "metadata": {
    "collapsed": true
   },
   "outputs": [],
   "source": [
    "y_prediction = model.predict_classes(X_test)"
   ]
  },
  {
   "cell_type": "code",
   "execution_count": null,
   "metadata": {},
   "outputs": [],
   "source": [
    "print(\"Recall score:\"+ str(recall_score(y_test, y_prediction)))"
   ]
  },
  {
   "cell_type": "code",
   "execution_count": null,
   "metadata": {},
   "outputs": [],
   "source": [
    "print(classification_report(y_test, y_prediction,\n",
    "                            target_names=[\"default\", \"non_default\"]))"
   ]
  },
  {
   "cell_type": "code",
   "execution_count": null,
   "metadata": {
    "collapsed": true
   },
   "outputs": [],
   "source": [
    "import itertools\n",
    "import matplotlib.pyplot as plt\n",
    "from sklearn.metrics import confusion_matrix"
   ]
  },
  {
   "cell_type": "code",
   "execution_count": null,
   "metadata": {},
   "outputs": [],
   "source": [
    "def plot_confusion_matrix(cm, classes,\n",
    "                          normalize=False,\n",
    "                          title='Confusion matrix',\n",
    "                          cmap=plt.cm.Blues):\n",
    "    \"\"\"\n",
    "    This function prints and plots the confusion matrix.\n",
    "    Normalization can be applied by setting `normalize=True`.\n",
    "    \"\"\"\n",
    "    if normalize:\n",
    "        cm = cm.astype('float') / cm.sum(axis=1)[:, np.newaxis]\n",
    "        print(\"Normalized confusion matrix\")\n",
    "    else:\n",
    "        print('Confusion matrix, without normalization')\n",
    "\n",
    "    print(cm)\n",
    "\n",
    "    plt.imshow(cm, interpolation='nearest', cmap=cmap)\n",
    "    plt.title(title)\n",
    "    plt.colorbar()\n",
    "    tick_marks = np.arange(len(classes))\n",
    "    plt.xticks(tick_marks, classes, rotation=45)\n",
    "    plt.yticks(tick_marks, classes)\n",
    "\n",
    "    fmt = '.2f' if normalize else 'd'\n",
    "    thresh = cm.max() / 2.\n",
    "    for i, j in itertools.product(range(cm.shape[0]), range(cm.shape[1])):\n",
    "        plt.text(j, i, format(cm[i, j], fmt),\n",
    "                 horizontalalignment=\"center\",\n",
    "                 color=\"red\" if cm[i, j] > thresh else \"black\")\n",
    "\n",
    "    plt.tight_layout()\n",
    "    plt.ylabel('True label')\n",
    "    plt.xlabel('Predicted label')\n",
    "\n",
    "# Compute confusion matrix\n",
    "cnf_matrix = confusion_matrix(y_test, y_prediction)\n",
    "np.set_printoptions(precision=2)\n",
    "\n",
    "# Plot non-normalized confusion matrix\n",
    "plt.figure()\n",
    "plot_confusion_matrix(cnf_matrix, classes=['Defualt', 'Non_default'],\n",
    "                      title='Confusion matrix, without normalization')\n",
    "\n",
    "# Plot normalized confusion matrix\n",
    "plt.figure()\n",
    "plot_confusion_matrix(cnf_matrix, classes=['Defualt', 'Non_default'], normalize=True,\n",
    "                      title='Normalized confusion matrix')\n",
    "\n",
    "plt.show()"
   ]
  },
  {
   "cell_type": "code",
   "execution_count": null,
   "metadata": {
    "collapsed": true
   },
   "outputs": [],
   "source": []
  }
 ],
 "metadata": {
  "kernelspec": {
   "display_name": "Python 3",
   "language": "python",
   "name": "python3"
  },
  "language_info": {
   "codemirror_mode": {
    "name": "ipython",
    "version": 3
   },
   "file_extension": ".py",
   "mimetype": "text/x-python",
   "name": "python",
   "nbconvert_exporter": "python",
   "pygments_lexer": "ipython3",
   "version": "3.6.3"
  }
 },
 "nbformat": 4,
 "nbformat_minor": 2
}
